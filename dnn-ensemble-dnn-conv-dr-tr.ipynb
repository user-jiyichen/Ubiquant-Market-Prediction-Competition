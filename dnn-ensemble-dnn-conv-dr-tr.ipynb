{
 "cells": [
  {
   "cell_type": "markdown",
   "id": "51d6cf39",
   "metadata": {
    "papermill": {
     "duration": 0.030649,
     "end_time": "2022-04-22T03:18:41.500859",
     "exception": false,
     "start_time": "2022-04-22T03:18:41.470210",
     "status": "completed"
    },
    "tags": []
   },
   "source": [
    "# Model Ensemble\n",
    "> Ensemble of baseline work"
   ]
  },
  {
   "cell_type": "code",
   "execution_count": 1,
   "id": "9b70276f",
   "metadata": {
    "_cell_guid": "b1076dfc-b9ad-4769-8c92-a6c4dae69d19",
    "_uuid": "8f2839f25d086af736a60e9eeb907d3b93b6e0e5",
    "execution": {
     "iopub.execute_input": "2022-04-22T03:18:41.573088Z",
     "iopub.status.busy": "2022-04-22T03:18:41.572246Z",
     "iopub.status.idle": "2022-04-22T03:18:47.384671Z",
     "shell.execute_reply": "2022-04-22T03:18:47.384032Z",
     "shell.execute_reply.started": "2022-04-20T22:23:08.705106Z"
    },
    "papermill": {
     "duration": 5.854009,
     "end_time": "2022-04-22T03:18:47.384838",
     "exception": false,
     "start_time": "2022-04-22T03:18:41.530829",
     "status": "completed"
    },
    "tags": []
   },
   "outputs": [],
   "source": [
    "import os\n",
    "import pandas as pd\n",
    "import numpy as np\n",
    "import gc\n",
    "import matplotlib.pyplot as plt\n",
    "import tensorflow as tf\n",
    "from tensorflow.keras import layers\n",
    "from tensorflow.keras import initializers\n",
    "from tensorflow import keras\n",
    "import mlcrate as mlc\n",
    "import pickle as pkl\n",
    "from tensorflow.keras.layers import BatchNormalization\n",
    "from keras.models import Sequential, Model\n",
    "from keras.layers import Input, Embedding, Dense, Flatten, Concatenate, Dot, Reshape, Add, Subtract\n",
    "from keras import backend as K\n",
    "from keras import regularizers \n",
    "from tensorflow.keras.optimizers import Adam\n",
    "from keras.callbacks import EarlyStopping, ModelCheckpoint\n",
    "from keras.regularizers import l2\n",
    "from sklearn.base import clone\n",
    "from typing import Dict\n",
    "from scipy import stats\n",
    "from tensorflow.keras.losses import Loss\n",
    "from tensorflow.keras import backend as K\n",
    "from sklearn.linear_model import LogisticRegression\n",
    "from sklearn.model_selection import TimeSeriesSplit, StratifiedKFold, KFold, GroupKFold\n",
    "from tqdm import tqdm\n",
    "from tensorflow.python.ops import math_ops"
   ]
  },
  {
   "cell_type": "markdown",
   "id": "5298ab3c",
   "metadata": {
    "papermill": {
     "duration": 0.030837,
     "end_time": "2022-04-22T03:18:47.445220",
     "exception": false,
     "start_time": "2022-04-22T03:18:47.414383",
     "status": "completed"
    },
    "tags": []
   },
   "source": [
    "## 1. Data Exploration & Features layers"
   ]
  },
  {
   "cell_type": "code",
   "execution_count": 2,
   "id": "c0d64bda",
   "metadata": {
    "execution": {
     "iopub.execute_input": "2022-04-22T03:18:47.509419Z",
     "iopub.status.busy": "2022-04-22T03:18:47.508848Z",
     "iopub.status.idle": "2022-04-22T03:19:03.105670Z",
     "shell.execute_reply": "2022-04-22T03:19:03.106083Z",
     "shell.execute_reply.started": "2022-04-20T22:23:14.46775Z"
    },
    "papermill": {
     "duration": 15.631635,
     "end_time": "2022-04-22T03:19:03.106227",
     "exception": false,
     "start_time": "2022-04-22T03:18:47.474592",
     "status": "completed"
    },
    "tags": []
   },
   "outputs": [
    {
     "name": "stdout",
     "output_type": "stream",
     "text": [
      "CPU times: user 390 ms, sys: 1.6 s, total: 1.99 s\n",
      "Wall time: 15.6 s\n"
     ]
    },
    {
     "data": {
      "text/html": [
       "<div>\n",
       "<style scoped>\n",
       "    .dataframe tbody tr th:only-of-type {\n",
       "        vertical-align: middle;\n",
       "    }\n",
       "\n",
       "    .dataframe tbody tr th {\n",
       "        vertical-align: top;\n",
       "    }\n",
       "\n",
       "    .dataframe thead th {\n",
       "        text-align: right;\n",
       "    }\n",
       "</style>\n",
       "<table border=\"1\" class=\"dataframe\">\n",
       "  <thead>\n",
       "    <tr style=\"text-align: right;\">\n",
       "      <th></th>\n",
       "      <th>investment_id</th>\n",
       "      <th>time_id</th>\n",
       "      <th>f_0</th>\n",
       "      <th>f_1</th>\n",
       "      <th>f_2</th>\n",
       "      <th>f_3</th>\n",
       "      <th>f_4</th>\n",
       "      <th>f_5</th>\n",
       "      <th>f_6</th>\n",
       "      <th>f_7</th>\n",
       "      <th>...</th>\n",
       "      <th>f_291</th>\n",
       "      <th>f_292</th>\n",
       "      <th>f_293</th>\n",
       "      <th>f_294</th>\n",
       "      <th>f_295</th>\n",
       "      <th>f_296</th>\n",
       "      <th>f_297</th>\n",
       "      <th>f_298</th>\n",
       "      <th>f_299</th>\n",
       "      <th>target</th>\n",
       "    </tr>\n",
       "  </thead>\n",
       "  <tbody>\n",
       "    <tr>\n",
       "      <th>0</th>\n",
       "      <td>1</td>\n",
       "      <td>0</td>\n",
       "      <td>0.932617</td>\n",
       "      <td>0.113708</td>\n",
       "      <td>-0.402100</td>\n",
       "      <td>0.378418</td>\n",
       "      <td>-0.203979</td>\n",
       "      <td>-0.413574</td>\n",
       "      <td>0.965820</td>\n",
       "      <td>1.230469</td>\n",
       "      <td>...</td>\n",
       "      <td>-1.095703</td>\n",
       "      <td>0.200073</td>\n",
       "      <td>0.819336</td>\n",
       "      <td>0.941406</td>\n",
       "      <td>-0.086792</td>\n",
       "      <td>-1.086914</td>\n",
       "      <td>-1.044922</td>\n",
       "      <td>-0.287598</td>\n",
       "      <td>0.321533</td>\n",
       "      <td>-0.300781</td>\n",
       "    </tr>\n",
       "    <tr>\n",
       "      <th>1</th>\n",
       "      <td>2</td>\n",
       "      <td>0</td>\n",
       "      <td>0.811035</td>\n",
       "      <td>-0.514160</td>\n",
       "      <td>0.742188</td>\n",
       "      <td>-0.616699</td>\n",
       "      <td>-0.194214</td>\n",
       "      <td>1.771484</td>\n",
       "      <td>1.427734</td>\n",
       "      <td>1.133789</td>\n",
       "      <td>...</td>\n",
       "      <td>0.912598</td>\n",
       "      <td>-0.734375</td>\n",
       "      <td>0.819336</td>\n",
       "      <td>0.941406</td>\n",
       "      <td>-0.387695</td>\n",
       "      <td>-1.086914</td>\n",
       "      <td>-0.929688</td>\n",
       "      <td>-0.974121</td>\n",
       "      <td>-0.343506</td>\n",
       "      <td>-0.231079</td>\n",
       "    </tr>\n",
       "    <tr>\n",
       "      <th>2</th>\n",
       "      <td>6</td>\n",
       "      <td>0</td>\n",
       "      <td>0.394043</td>\n",
       "      <td>0.615723</td>\n",
       "      <td>0.567871</td>\n",
       "      <td>-0.607910</td>\n",
       "      <td>0.068909</td>\n",
       "      <td>-1.083008</td>\n",
       "      <td>0.979492</td>\n",
       "      <td>-1.125977</td>\n",
       "      <td>...</td>\n",
       "      <td>0.912598</td>\n",
       "      <td>-0.551758</td>\n",
       "      <td>-1.220703</td>\n",
       "      <td>-1.060547</td>\n",
       "      <td>-0.219116</td>\n",
       "      <td>-1.086914</td>\n",
       "      <td>-0.612305</td>\n",
       "      <td>-0.113953</td>\n",
       "      <td>0.243652</td>\n",
       "      <td>0.568848</td>\n",
       "    </tr>\n",
       "    <tr>\n",
       "      <th>3</th>\n",
       "      <td>7</td>\n",
       "      <td>0</td>\n",
       "      <td>-2.343750</td>\n",
       "      <td>-0.011871</td>\n",
       "      <td>1.875000</td>\n",
       "      <td>-0.606445</td>\n",
       "      <td>-0.586914</td>\n",
       "      <td>-0.815918</td>\n",
       "      <td>0.778320</td>\n",
       "      <td>0.299072</td>\n",
       "      <td>...</td>\n",
       "      <td>0.912598</td>\n",
       "      <td>-0.266357</td>\n",
       "      <td>-1.220703</td>\n",
       "      <td>0.941406</td>\n",
       "      <td>-0.608887</td>\n",
       "      <td>0.104919</td>\n",
       "      <td>-0.783203</td>\n",
       "      <td>1.151367</td>\n",
       "      <td>-0.773438</td>\n",
       "      <td>-1.064453</td>\n",
       "    </tr>\n",
       "    <tr>\n",
       "      <th>4</th>\n",
       "      <td>8</td>\n",
       "      <td>0</td>\n",
       "      <td>0.842285</td>\n",
       "      <td>-0.262939</td>\n",
       "      <td>2.330078</td>\n",
       "      <td>-0.583496</td>\n",
       "      <td>-0.618164</td>\n",
       "      <td>-0.742676</td>\n",
       "      <td>-0.946777</td>\n",
       "      <td>1.230469</td>\n",
       "      <td>...</td>\n",
       "      <td>0.912598</td>\n",
       "      <td>-0.741211</td>\n",
       "      <td>-1.220703</td>\n",
       "      <td>0.941406</td>\n",
       "      <td>-0.588379</td>\n",
       "      <td>0.104919</td>\n",
       "      <td>0.753418</td>\n",
       "      <td>1.345703</td>\n",
       "      <td>-0.737793</td>\n",
       "      <td>-0.531738</td>\n",
       "    </tr>\n",
       "  </tbody>\n",
       "</table>\n",
       "<p>5 rows × 303 columns</p>\n",
       "</div>"
      ],
      "text/plain": [
       "   investment_id  time_id       f_0       f_1       f_2       f_3       f_4  \\\n",
       "0              1        0  0.932617  0.113708 -0.402100  0.378418 -0.203979   \n",
       "1              2        0  0.811035 -0.514160  0.742188 -0.616699 -0.194214   \n",
       "2              6        0  0.394043  0.615723  0.567871 -0.607910  0.068909   \n",
       "3              7        0 -2.343750 -0.011871  1.875000 -0.606445 -0.586914   \n",
       "4              8        0  0.842285 -0.262939  2.330078 -0.583496 -0.618164   \n",
       "\n",
       "        f_5       f_6       f_7  ...     f_291     f_292     f_293     f_294  \\\n",
       "0 -0.413574  0.965820  1.230469  ... -1.095703  0.200073  0.819336  0.941406   \n",
       "1  1.771484  1.427734  1.133789  ...  0.912598 -0.734375  0.819336  0.941406   \n",
       "2 -1.083008  0.979492 -1.125977  ...  0.912598 -0.551758 -1.220703 -1.060547   \n",
       "3 -0.815918  0.778320  0.299072  ...  0.912598 -0.266357 -1.220703  0.941406   \n",
       "4 -0.742676 -0.946777  1.230469  ...  0.912598 -0.741211 -1.220703  0.941406   \n",
       "\n",
       "      f_295     f_296     f_297     f_298     f_299    target  \n",
       "0 -0.086792 -1.086914 -1.044922 -0.287598  0.321533 -0.300781  \n",
       "1 -0.387695 -1.086914 -0.929688 -0.974121 -0.343506 -0.231079  \n",
       "2 -0.219116 -1.086914 -0.612305 -0.113953  0.243652  0.568848  \n",
       "3 -0.608887  0.104919 -0.783203  1.151367 -0.773438 -1.064453  \n",
       "4 -0.588379  0.104919  0.753418  1.345703 -0.737793 -0.531738  \n",
       "\n",
       "[5 rows x 303 columns]"
      ]
     },
     "execution_count": 2,
     "metadata": {},
     "output_type": "execute_result"
    }
   ],
   "source": [
    "%%time\n",
    "n_features = 300\n",
    "features = [f'f_{i}' for i in range(n_features)]\n",
    "feature_columns = ['investment_id', 'time_id'] + features\n",
    "train = pd.read_pickle('../input/ubiquant-market-prediction-half-precision-pickle/train.pkl')\n",
    "train.head()"
   ]
  },
  {
   "cell_type": "code",
   "execution_count": 3,
   "id": "82576eb3",
   "metadata": {
    "execution": {
     "iopub.execute_input": "2022-04-22T03:19:03.184649Z",
     "iopub.status.busy": "2022-04-22T03:19:03.177581Z",
     "iopub.status.idle": "2022-04-22T03:19:03.188512Z",
     "shell.execute_reply": "2022-04-22T03:19:03.188000Z",
     "shell.execute_reply.started": "2022-04-20T22:23:31.513011Z"
    },
    "papermill": {
     "duration": 0.051148,
     "end_time": "2022-04-22T03:19:03.188661",
     "exception": false,
     "start_time": "2022-04-22T03:19:03.137513",
     "status": "completed"
    },
    "tags": []
   },
   "outputs": [
    {
     "data": {
      "text/plain": [
       "0    1\n",
       "1    2\n",
       "2    6\n",
       "3    7\n",
       "4    8\n",
       "Name: investment_id, dtype: uint16"
      ]
     },
     "execution_count": 3,
     "metadata": {},
     "output_type": "execute_result"
    }
   ],
   "source": [
    "investment_id = train.pop(\"investment_id\")\n",
    "investment_id.head()"
   ]
  },
  {
   "cell_type": "code",
   "execution_count": 4,
   "id": "b424b298",
   "metadata": {
    "execution": {
     "iopub.execute_input": "2022-04-22T03:19:03.267488Z",
     "iopub.status.busy": "2022-04-22T03:19:03.260455Z",
     "iopub.status.idle": "2022-04-22T03:19:03.277239Z",
     "shell.execute_reply": "2022-04-22T03:19:03.276813Z",
     "shell.execute_reply.started": "2022-04-20T22:23:31.5341Z"
    },
    "papermill": {
     "duration": 0.054996,
     "end_time": "2022-04-22T03:19:03.277376",
     "exception": false,
     "start_time": "2022-04-22T03:19:03.222380",
     "status": "completed"
    },
    "tags": []
   },
   "outputs": [
    {
     "data": {
      "text/plain": [
       "0   -0.300781\n",
       "1   -0.231079\n",
       "2    0.568848\n",
       "3   -1.064453\n",
       "4   -0.531738\n",
       "Name: target, dtype: float16"
      ]
     },
     "execution_count": 4,
     "metadata": {},
     "output_type": "execute_result"
    }
   ],
   "source": [
    "_ = train.pop(\"time_id\")\n",
    "y = train.pop(\"target\")\n",
    "y.head()"
   ]
  },
  {
   "cell_type": "code",
   "execution_count": 5,
   "id": "955eeca4",
   "metadata": {
    "execution": {
     "iopub.execute_input": "2022-04-22T03:19:03.346977Z",
     "iopub.status.busy": "2022-04-22T03:19:03.346171Z",
     "iopub.status.idle": "2022-04-22T03:20:27.607342Z",
     "shell.execute_reply": "2022-04-22T03:20:27.607894Z",
     "shell.execute_reply.started": "2022-04-20T22:23:31.556268Z"
    },
    "papermill": {
     "duration": 84.299588,
     "end_time": "2022-04-22T03:20:27.608088",
     "exception": false,
     "start_time": "2022-04-22T03:19:03.308500",
     "status": "completed"
    },
    "tags": []
   },
   "outputs": [
    {
     "name": "stderr",
     "output_type": "stream",
     "text": [
      "2022-04-22 03:19:03.435223: I tensorflow/stream_executor/cuda/cuda_gpu_executor.cc:937] successful NUMA node read from SysFS had negative value (-1), but there must be at least one NUMA node, so returning NUMA node zero\n",
      "2022-04-22 03:19:03.501841: I tensorflow/stream_executor/cuda/cuda_gpu_executor.cc:937] successful NUMA node read from SysFS had negative value (-1), but there must be at least one NUMA node, so returning NUMA node zero\n",
      "2022-04-22 03:19:03.502630: I tensorflow/stream_executor/cuda/cuda_gpu_executor.cc:937] successful NUMA node read from SysFS had negative value (-1), but there must be at least one NUMA node, so returning NUMA node zero\n",
      "2022-04-22 03:19:03.504108: I tensorflow/core/platform/cpu_feature_guard.cc:142] This TensorFlow binary is optimized with oneAPI Deep Neural Network Library (oneDNN) to use the following CPU instructions in performance-critical operations:  AVX2 AVX512F FMA\n",
      "To enable them in other operations, rebuild TensorFlow with the appropriate compiler flags.\n",
      "2022-04-22 03:19:03.504811: I tensorflow/stream_executor/cuda/cuda_gpu_executor.cc:937] successful NUMA node read from SysFS had negative value (-1), but there must be at least one NUMA node, so returning NUMA node zero\n",
      "2022-04-22 03:19:03.505572: I tensorflow/stream_executor/cuda/cuda_gpu_executor.cc:937] successful NUMA node read from SysFS had negative value (-1), but there must be at least one NUMA node, so returning NUMA node zero\n",
      "2022-04-22 03:19:03.506243: I tensorflow/stream_executor/cuda/cuda_gpu_executor.cc:937] successful NUMA node read from SysFS had negative value (-1), but there must be at least one NUMA node, so returning NUMA node zero\n",
      "2022-04-22 03:19:05.152755: I tensorflow/stream_executor/cuda/cuda_gpu_executor.cc:937] successful NUMA node read from SysFS had negative value (-1), but there must be at least one NUMA node, so returning NUMA node zero\n",
      "2022-04-22 03:19:05.153742: I tensorflow/stream_executor/cuda/cuda_gpu_executor.cc:937] successful NUMA node read from SysFS had negative value (-1), but there must be at least one NUMA node, so returning NUMA node zero\n",
      "2022-04-22 03:19:05.154485: I tensorflow/stream_executor/cuda/cuda_gpu_executor.cc:937] successful NUMA node read from SysFS had negative value (-1), but there must be at least one NUMA node, so returning NUMA node zero\n",
      "2022-04-22 03:19:05.155109: I tensorflow/core/common_runtime/gpu/gpu_device.cc:1510] Created device /job:localhost/replica:0/task:0/device:GPU:0 with 15403 MB memory:  -> device: 0, name: Tesla P100-PCIE-16GB, pci bus id: 0000:00:04.0, compute capability: 6.0\n",
      "2022-04-22 03:19:05.532717: I tensorflow/compiler/mlir/mlir_graph_optimization_pass.cc:185] None of the MLIR Optimization Passes are enabled (registered 2)\n"
     ]
    },
    {
     "name": "stdout",
     "output_type": "stream",
     "text": [
      "CPU times: user 1min 16s, sys: 9.6 s, total: 1min 25s\n",
      "Wall time: 1min 24s\n"
     ]
    }
   ],
   "source": [
    "%%time\n",
    "investment_ids = list(investment_id.unique())\n",
    "investment_id_size = len(investment_ids) + 1\n",
    "investment_id_lookup_layer = layers.IntegerLookup(max_tokens=investment_id_size)\n",
    "with tf.device(\"cpu\"):\n",
    "    investment_id_lookup_layer.adapt(investment_id)"
   ]
  },
  {
   "cell_type": "code",
   "execution_count": 6,
   "id": "0c324607",
   "metadata": {
    "execution": {
     "iopub.execute_input": "2022-04-22T03:20:27.676454Z",
     "iopub.status.busy": "2022-04-22T03:20:27.675064Z",
     "iopub.status.idle": "2022-04-22T03:20:27.928956Z",
     "shell.execute_reply": "2022-04-22T03:20:27.928105Z",
     "shell.execute_reply.started": "2022-04-20T22:24:55.820128Z"
    },
    "papermill": {
     "duration": 0.290332,
     "end_time": "2022-04-22T03:20:27.929100",
     "exception": false,
     "start_time": "2022-04-22T03:20:27.638768",
     "status": "completed"
    },
    "tags": []
   },
   "outputs": [],
   "source": [
    "investment_id2 = investment_id[~investment_id.isin([85, 905, 2558, 3662, 2800, 1415])]\n",
    "\n",
    "investment_ids2 = list(investment_id2.unique())\n",
    "investment_id_size2 = len(investment_ids2) + 1\n",
    "investment_id_lookup_layer2 = layers.IntegerLookup(max_tokens=investment_id_size2)\n",
    "investment_id_lookup_layer2.adapt(pd.DataFrame({\"investment_ids\":investment_ids}))"
   ]
  },
  {
   "cell_type": "code",
   "execution_count": 7,
   "id": "77e2a4ee",
   "metadata": {
    "execution": {
     "iopub.execute_input": "2022-04-22T03:20:28.001990Z",
     "iopub.status.busy": "2022-04-22T03:20:28.000314Z",
     "iopub.status.idle": "2022-04-22T03:20:28.002789Z",
     "shell.execute_reply": "2022-04-22T03:20:28.003229Z",
     "shell.execute_reply.started": "2022-04-20T22:24:56.072823Z"
    },
    "papermill": {
     "duration": 0.041846,
     "end_time": "2022-04-22T03:20:28.003492",
     "exception": false,
     "start_time": "2022-04-22T03:20:27.961646",
     "status": "completed"
    },
    "tags": []
   },
   "outputs": [],
   "source": [
    "def preprocess(X, y):\n",
    "    print(X)\n",
    "    print(y)\n",
    "    return X, y\n",
    "def make_dataset(feature, investment_id, y, batch_size=1024, mode=\"train\"):\n",
    "    ds = tf.data.Dataset.from_tensor_slices(((investment_id, feature), y))\n",
    "    ds = ds.map(preprocess)\n",
    "    if mode == \"train\":\n",
    "        ds = ds.shuffle(256)\n",
    "    ds = ds.batch(batch_size).cache().prefetch(tf.data.experimental.AUTOTUNE)\n",
    "    return ds"
   ]
  },
  {
   "cell_type": "markdown",
   "id": "b6d98b86",
   "metadata": {
    "papermill": {
     "duration": 0.033271,
     "end_time": "2022-04-22T03:20:28.070242",
     "exception": false,
     "start_time": "2022-04-22T03:20:28.036971",
     "status": "completed"
    },
    "tags": []
   },
   "source": [
    "### feature_time_ds"
   ]
  },
  {
   "cell_type": "code",
   "execution_count": 8,
   "id": "03fe46ca",
   "metadata": {
    "execution": {
     "iopub.execute_input": "2022-04-22T03:20:28.141837Z",
     "iopub.status.busy": "2022-04-22T03:20:28.140968Z",
     "iopub.status.idle": "2022-04-22T03:20:28.142970Z",
     "shell.execute_reply": "2022-04-22T03:20:28.143472Z",
     "shell.execute_reply.started": "2022-04-20T22:24:56.083427Z"
    },
    "papermill": {
     "duration": 0.041032,
     "end_time": "2022-04-22T03:20:28.143608",
     "exception": false,
     "start_time": "2022-04-22T03:20:28.102576",
     "status": "completed"
    },
    "tags": []
   },
   "outputs": [],
   "source": [
    "def make_ft_dataset(investment_id, feature, time_id, y=None, batch_size=1024):\n",
    "    if y is not None:\n",
    "        slices = ((investment_id, feature, time_id), y)\n",
    "    else:\n",
    "        slices = ((investment_id, feature, time_id))\n",
    "        \n",
    "    ds = tf.data.Dataset.from_tensor_slices(slices)\n",
    "    ds = ds.batch(batch_size).cache().prefetch(tf.data.experimental.AUTOTUNE)\n",
    "    return ds"
   ]
  },
  {
   "cell_type": "markdown",
   "id": "07cb35a4",
   "metadata": {
    "papermill": {
     "duration": 0.031946,
     "end_time": "2022-04-22T03:20:28.207947",
     "exception": false,
     "start_time": "2022-04-22T03:20:28.176001",
     "status": "completed"
    },
    "tags": []
   },
   "source": [
    "## 2. DNN Architecture"
   ]
  },
  {
   "cell_type": "code",
   "execution_count": 9,
   "id": "27e8f18c",
   "metadata": {
    "execution": {
     "iopub.execute_input": "2022-04-22T03:20:28.286221Z",
     "iopub.status.busy": "2022-04-22T03:20:28.285313Z",
     "iopub.status.idle": "2022-04-22T03:20:28.287239Z",
     "shell.execute_reply": "2022-04-22T03:20:28.287856Z",
     "shell.execute_reply.started": "2022-04-20T22:24:56.092243Z"
    },
    "papermill": {
     "duration": 0.048139,
     "end_time": "2022-04-22T03:20:28.288010",
     "exception": false,
     "start_time": "2022-04-22T03:20:28.239871",
     "status": "completed"
    },
    "tags": []
   },
   "outputs": [],
   "source": [
    "class MyModel(keras.Model):\n",
    "    \n",
    "    def __init__(self, investment_id, device='gpu'):\n",
    "        super().__init__()\n",
    "        \n",
    "        with tf.device(device):\n",
    "            self.inv_embedding = layers.Embedding(investment_id_size, 32)\n",
    "            self.inv_fc = keras.Sequential([\n",
    "                layers.Dense(64, activation='swish', kernel_initializer='he_normal', bias_initializer='zeros'),\n",
    "                layers.Dropout(0.5),\n",
    "                layers.Dense(32, activation='swish', kernel_initializer='he_normal', bias_initializer='zeros'),\n",
    "                layers.Dropout(0.5),\n",
    "            ])\n",
    "\n",
    "            self.fea_fc = keras.Sequential([\n",
    "                layers.Dense(256, activation='swish', kernel_initializer='he_normal', bias_initializer='zeros'),\n",
    "                keras.layers.BatchNormalization(axis=1),\n",
    "                layers.Dropout(0.5),\n",
    "                layers.Dense(128, activation='swish', kernel_initializer='he_normal', bias_initializer='zeros'),\n",
    "                keras.layers.BatchNormalization(axis=1),\n",
    "                layers.Dropout(0.5),\n",
    "                layers.Dense(64, activation='swish', kernel_initializer='he_normal', bias_initializer='zeros')\n",
    "            ])\n",
    "            \n",
    "            self.fc = keras.Sequential([\n",
    "                layers.Dropout(0.5),\n",
    "                layers.Dense(128, activation='swish', kernel_initializer='he_normal', bias_initializer='zeros', kernel_regularizer=\"l2\"),\n",
    "                layers.Dropout(0.5),\n",
    "                layers.Dense(32, activation='swish', kernel_initializer='he_normal', bias_initializer='zeros',  kernel_regularizer=\"l2\"),\n",
    "                layers.Dropout(0.5),\n",
    "                layers.Dense(16, activation='swish', kernel_initializer='he_normal', bias_initializer='zeros', kernel_regularizer=\"l2\"),\n",
    "                layers.Dense(1)\n",
    "            ])\n",
    "    \n",
    "    def call(self, inputs):\n",
    "        inv_id, fea = inputs\n",
    "        \n",
    "        inv = investment_id_lookup_layer(inv_id)\n",
    "        inv = self.inv_embedding(inv)\n",
    "        inv = self.inv_fc(inv)\n",
    "        inv = tf.squeeze(inv, axis=1)\n",
    "        \n",
    "        fea = self.fea_fc(fea)\n",
    "        \n",
    "        concat = tf.concat([inv, fea], axis=1)\n",
    "        output = self.fc(concat)\n",
    "        \n",
    "        return output"
   ]
  },
  {
   "cell_type": "code",
   "execution_count": 10,
   "id": "07270ae0",
   "metadata": {
    "execution": {
     "iopub.execute_input": "2022-04-22T03:20:28.364408Z",
     "iopub.status.busy": "2022-04-22T03:20:28.359492Z",
     "iopub.status.idle": "2022-04-22T03:20:28.561149Z",
     "shell.execute_reply": "2022-04-22T03:20:28.561594Z",
     "shell.execute_reply.started": "2022-04-20T22:24:56.110752Z"
    },
    "papermill": {
     "duration": 0.241892,
     "end_time": "2022-04-22T03:20:28.561757",
     "exception": false,
     "start_time": "2022-04-22T03:20:28.319865",
     "status": "completed"
    },
    "tags": []
   },
   "outputs": [
    {
     "data": {
      "text/plain": [
       "754"
      ]
     },
     "execution_count": 10,
     "metadata": {},
     "output_type": "execute_result"
    }
   ],
   "source": [
    "def get_model():\n",
    "    investment_id_inputs = tf.keras.Input((1, ), dtype=tf.uint16)\n",
    "    features_inputs = tf.keras.Input((300, ), dtype=tf.float16)\n",
    "    \n",
    "    investment_id_x = investment_id_lookup_layer(investment_id_inputs)\n",
    "    investment_id_x = layers.Embedding(investment_id_size, 32, input_length=1)(investment_id_x)\n",
    "    investment_id_x = layers.Reshape((-1, ))(investment_id_x)\n",
    "    investment_id_x = layers.Dense(64, activation='swish')(investment_id_x)\n",
    "    investment_id_x = layers.Dense(64, activation='swish')(investment_id_x)\n",
    "    investment_id_x = layers.Dense(64, activation='swish')(investment_id_x)\n",
    "    \n",
    "    feature_x = layers.Dense(256, activation='swish')(features_inputs)\n",
    "    feature_x = layers.Dense(256, activation='swish')(feature_x)\n",
    "    feature_x = layers.Dense(256, activation='swish')(feature_x)\n",
    "    \n",
    "    x = layers.Concatenate(axis=1)([investment_id_x, feature_x])\n",
    "    x = layers.Dense(512, activation='swish', kernel_regularizer=\"l2\")(x)\n",
    "    x = layers.Dense(128, activation='swish', kernel_regularizer=\"l2\")(x)\n",
    "    x = layers.Dense(32, activation='swish', kernel_regularizer=\"l2\")(x)\n",
    "    output = layers.Dense(1)(x)\n",
    "    rmse = keras.metrics.RootMeanSquaredError(name=\"rmse\")\n",
    "    model = tf.keras.Model(inputs=[investment_id_inputs, features_inputs], outputs=[output])\n",
    "    model.compile(optimizer=tf.optimizers.Adam(0.001), loss='mse', metrics=['mse', \"mae\", \"mape\", rmse])\n",
    "    return model\n",
    "\n",
    "\n",
    "def get_model2():\n",
    "    investment_id_inputs = tf.keras.Input((1, ), dtype=tf.uint16)\n",
    "    features_inputs = tf.keras.Input((300, ), dtype=tf.float16)\n",
    "    \n",
    "    investment_id_x = investment_id_lookup_layer(investment_id_inputs)\n",
    "    investment_id_x = layers.Embedding(investment_id_size, 32, input_length=1)(investment_id_x)\n",
    "    investment_id_x = layers.Reshape((-1, ))(investment_id_x)\n",
    "    investment_id_x = layers.Dense(64, activation='swish')(investment_id_x)    \n",
    "    investment_id_x = layers.Dense(64, activation='swish')(investment_id_x)\n",
    "    investment_id_x = layers.Dense(64, activation='swish')(investment_id_x)\n",
    "    investment_id_x = layers.Dense(64, activation='swish')(investment_id_x)\n",
    "   # investment_id_x = layers.Dropout(0.65)(investment_id_x)\n",
    "   \n",
    "    \n",
    "    feature_x = layers.Dense(256, activation='swish')(features_inputs)\n",
    "    feature_x = layers.Dense(256, activation='swish')(feature_x)\n",
    "    feature_x = layers.Dense(256, activation='swish')(feature_x)\n",
    "    feature_x = layers.Dense(256, activation='swish')(feature_x)\n",
    "    feature_x = layers.Dropout(0.65)(feature_x)\n",
    "    \n",
    "    x = layers.Concatenate(axis=1)([investment_id_x, feature_x])\n",
    "    x = layers.Dense(512, activation='swish', kernel_regularizer=\"l2\")(x)\n",
    "   # x = layers.Dropout(0.2)(x)\n",
    "    x = layers.Dense(128, activation='swish', kernel_regularizer=\"l2\")(x)\n",
    "  #  x = layers.Dropout(0.4)(x)\n",
    "    x = layers.Dense(32, activation='swish', kernel_regularizer=\"l2\")(x)\n",
    "    x = layers.Dense(32, activation='swish', kernel_regularizer=\"l2\")(x)\n",
    "    x = layers.Dropout(0.75)(x)\n",
    "    output = layers.Dense(1)(x)\n",
    "    rmse = keras.metrics.RootMeanSquaredError(name=\"rmse\")\n",
    "    model = tf.keras.Model(inputs=[investment_id_inputs, features_inputs], outputs=[output])\n",
    "    model.compile(optimizer=tf.optimizers.Adam(0.001), loss='mse', metrics=['mse', \"mae\", \"mape\", rmse])\n",
    "    return model\n",
    "\n",
    "\n",
    "def get_model5():\n",
    "    features_inputs = tf.keras.Input((300, ), dtype=tf.float16)\n",
    "    \n",
    "    ## feature ##\n",
    "    feature_x = layers.Dense(256, activation='swish')(features_inputs)\n",
    "    feature_x = layers.Dropout(0.1)(feature_x)\n",
    "    ## convolution 1 ##\n",
    "    feature_x = layers.Reshape((-1,1))(feature_x)\n",
    "    feature_x = layers.Conv1D(filters=16, kernel_size=4, strides=1, padding='same')(feature_x)\n",
    "    feature_x = layers.BatchNormalization()(feature_x)\n",
    "    feature_x = layers.LeakyReLU()(feature_x)\n",
    "    ## convolution 2 ##\n",
    "    feature_x = layers.Conv1D(filters=16, kernel_size=4, strides=4, padding='same')(feature_x)\n",
    "    feature_x = layers.BatchNormalization()(feature_x)\n",
    "    feature_x = layers.LeakyReLU()(feature_x)\n",
    "    ## convolution 3 ##\n",
    "    feature_x = layers.Conv1D(filters=64, kernel_size=4, strides=1, padding='same')(feature_x)\n",
    "    feature_x = layers.BatchNormalization()(feature_x)\n",
    "    feature_x = layers.LeakyReLU()(feature_x)\n",
    "    ## convolution 4 ##\n",
    "    feature_x = layers.Conv1D(filters=64, kernel_size=4, strides=4, padding='same')(feature_x)\n",
    "    feature_x = layers.BatchNormalization()(feature_x)\n",
    "    feature_x = layers.LeakyReLU()(feature_x)\n",
    "    ## convolution 5 ##\n",
    "    feature_x = layers.Conv1D(filters=64, kernel_size=4, strides=2, padding='same')(feature_x)\n",
    "    feature_x = layers.BatchNormalization()(feature_x)\n",
    "    feature_x = layers.LeakyReLU()(feature_x)\n",
    "    ## flatten ##\n",
    "    feature_x = layers.Flatten()(feature_x)\n",
    "    \n",
    "    x = layers.Dense(512, activation='swish', kernel_regularizer=\"l2\")(feature_x)\n",
    "    \n",
    "    x = layers.Dropout(0.1)(x)\n",
    "    x = layers.Dense(128, activation='swish', kernel_regularizer=\"l2\")(x)\n",
    "    x = layers.Dropout(0.1)(x)\n",
    "    x = layers.Dense(32, activation='swish', kernel_regularizer=\"l2\")(x)\n",
    "    x = layers.Dropout(0.1)(x)\n",
    "    output = layers.Dense(1)(x)\n",
    "    rmse = keras.metrics.RootMeanSquaredError(name=\"rmse\")\n",
    "    model = tf.keras.Model(inputs=[features_inputs], outputs=[output])\n",
    "    model.compile(optimizer=tf.optimizers.Adam(0.001), loss='mse', metrics=['mse', \"mae\", \"mape\", rmse])\n",
    "    return model\n",
    "del train\n",
    "# del investment_id\n",
    "del y\n",
    "gc.collect()"
   ]
  },
  {
   "cell_type": "markdown",
   "id": "61bcc1fb",
   "metadata": {
    "papermill": {
     "duration": 0.032723,
     "end_time": "2022-04-22T03:20:28.627713",
     "exception": false,
     "start_time": "2022-04-22T03:20:28.594990",
     "status": "completed"
    },
    "tags": []
   },
   "source": [
    "## 2.0 Model_Dropout_10_RMSE"
   ]
  },
  {
   "cell_type": "code",
   "execution_count": 11,
   "id": "1465f3ce",
   "metadata": {
    "execution": {
     "iopub.execute_input": "2022-04-22T03:20:28.878146Z",
     "iopub.status.busy": "2022-04-22T03:20:28.876201Z",
     "iopub.status.idle": "2022-04-22T03:20:28.880678Z",
     "shell.execute_reply": "2022-04-22T03:20:28.880184Z",
     "shell.execute_reply.started": "2022-04-20T22:24:56.306235Z"
    },
    "papermill": {
     "duration": 0.22013,
     "end_time": "2022-04-22T03:20:28.880805",
     "exception": false,
     "start_time": "2022-04-22T03:20:28.660675",
     "status": "completed"
    },
    "tags": []
   },
   "outputs": [
    {
     "name": "stdout",
     "output_type": "stream",
     "text": [
      "Name: /physical_device:GPU:0   Type: GPU\n"
     ]
    }
   ],
   "source": [
    "def get_model_dr04():\n",
    "    features_inputs = tf.keras.Input((300, ), dtype=tf.float32)\n",
    "    \n",
    "    feature_x = layers.Dense(256, activation='swish')(features_inputs)\n",
    "    feature_x = layers.Dropout(0.4)(feature_x)\n",
    "    feature_x = layers.Dense(128, activation='swish')(feature_x)\n",
    "    feature_x = layers.Dropout(0.4)(feature_x)\n",
    "    feature_x = layers.Dense(64, activation='swish')(feature_x)\n",
    "    \n",
    "    x = layers.Concatenate(axis=1)([feature_x])\n",
    "    x = layers.Dropout(0.4)(x)\n",
    "    x = layers.Dense(64, activation='swish', kernel_regularizer=\"l2\")(x)\n",
    "    x = layers.Dropout(0.4)(x)\n",
    "    x = layers.Dense(32, activation='swish', kernel_regularizer=\"l2\")(x)\n",
    "    x = layers.Dropout(0.4)(x)\n",
    "    x = layers.Dense(16, activation='swish', kernel_regularizer=\"l2\")(x)\n",
    "    x = layers.Dropout(0.4)(x)\n",
    "    output = layers.Dense(1)(x)\n",
    "    output = tf.keras.layers.BatchNormalization(axis=1)(output)\n",
    "    rmse = keras.metrics.RootMeanSquaredError(name=\"rmse\")\n",
    "    model = tf.keras.Model(inputs=[features_inputs], outputs=[output])\n",
    "    model.compile(optimizer=tf.optimizers.Adam(0.001),  loss = correlationLoss, metrics=[correlationMetric])\n",
    "    return model\n",
    "\n",
    "dr=0.3\n",
    "\n",
    "gpus = tf.config.experimental.list_physical_devices('GPU')\n",
    "for gpu in gpus:\n",
    "    print(\"Name:\", gpu.name, \"  Type:\", gpu.device_type)\n",
    "\n",
    "n_features = 300\n",
    "features = [f'f_{i}' for i in range(n_features)]\n",
    "\n",
    "# def preprocess(X, y):\n",
    "#     return X, y\n",
    "# def make_dataset(feature, y, batch_size=1024, mode=\"train\"):\n",
    "#     ds = tf.data.Dataset.from_tensor_slices((feature, y))\n",
    "#     ds = ds.map(preprocess)\n",
    "#     if mode == \"train\":\n",
    "#         ds = ds.shuffle(512)\n",
    "# #     ds = ds.batch(batch_size).cache().prefetch(tf.data.experimental.AUTOTUNE)\n",
    "#     ds = ds.batch(batch_size).prefetch(tf.data.experimental.AUTOTUNE)\n",
    "#     return ds\n",
    "\n",
    "def correlationMetric(x, y, axis=-2):\n",
    "  \"\"\"Metric returning the Pearson correlation coefficient of two tensors over some axis, default -2.\"\"\"\n",
    "  x = tf.convert_to_tensor(x)\n",
    "  y = math_ops.cast(y, x.dtype)\n",
    "  n = tf.cast(tf.shape(x)[axis], x.dtype)\n",
    "  xsum = tf.reduce_sum(x, axis=axis)\n",
    "  ysum = tf.reduce_sum(y, axis=axis)\n",
    "  xmean = xsum / n\n",
    "  ymean = ysum / n\n",
    "  xvar = tf.reduce_sum( tf.math.squared_difference(x, xmean), axis=axis)\n",
    "  yvar = tf.reduce_sum( tf.math.squared_difference(y, ymean), axis=axis)\n",
    "  cov = tf.reduce_sum( (x - xmean) * (y - ymean), axis=axis)\n",
    "  corr = cov / tf.sqrt(xvar * yvar)\n",
    "  return tf.constant(1.0, dtype=x.dtype) - corr\n",
    "\n",
    "\n",
    "def correlationLoss(x,y, axis=-2):\n",
    "  \"\"\"Loss function that maximizes the pearson correlation coefficient between the predicted values and the labels,\n",
    "  while trying to have the same mean and variance\"\"\"\n",
    "  x = tf.convert_to_tensor(x)\n",
    "  y = math_ops.cast(y, x.dtype)\n",
    "  n = tf.cast(tf.shape(x)[axis], x.dtype)\n",
    "  xsum = tf.reduce_sum(x, axis=axis)\n",
    "  ysum = tf.reduce_sum(y, axis=axis)\n",
    "  xmean = xsum / n\n",
    "  ymean = ysum / n\n",
    "  xsqsum = tf.reduce_sum( tf.math.squared_difference(x, xmean), axis=axis)\n",
    "  ysqsum = tf.reduce_sum( tf.math.squared_difference(y, ymean), axis=axis)\n",
    "  cov = tf.reduce_sum( (x - xmean) * (y - ymean), axis=axis)\n",
    "  corr = cov / tf.sqrt(xsqsum * ysqsum)\n",
    "  return tf.convert_to_tensor( K.mean(tf.constant(1.0, dtype=x.dtype) - corr ) , dtype=tf.float32 )\n",
    "def correlationMetric_01mse(x, y, axis=-2):\n",
    "  \"\"\"Metric returning the Pearson correlation coefficient of two tensors over some axis, default -2.\"\"\"\n",
    "  x = tf.convert_to_tensor(x)\n",
    "  y = math_ops.cast(y, x.dtype)\n",
    "  n = tf.cast(tf.shape(x)[axis], x.dtype)\n",
    "  xsum = tf.reduce_sum(x, axis=axis)\n",
    "  ysum = tf.reduce_sum(y, axis=axis)\n",
    "  xmean = xsum / n\n",
    "  ymean = ysum / n\n",
    "  xvar = tf.reduce_sum( tf.math.squared_difference(x, xmean), axis=axis)\n",
    "  yvar = tf.reduce_sum( tf.math.squared_difference(y, ymean), axis=axis)\n",
    "  cov = tf.reduce_sum( (x - xmean) * (y - ymean), axis=axis)\n",
    "  corr = cov / tf.sqrt(xvar * yvar)\n",
    "  return tf.constant(1.0, dtype=x.dtype) - corr\n",
    "\n",
    "def correlation(x, y, axis=-2):\n",
    "    xmean = tf.reduce_mean(x, axis=axis)\n",
    "    ymean = tf.reduce_mean(y, axis=axis)\n",
    "    cossim = keras.losses.cosine_similarity(x - xmean, y - ymean, axis=axis)\n",
    "    return 1 + cossim\n",
    "\n",
    "gc.collect()\n",
    "\n",
    "# list(GroupKFold(5).split(train , groups = train.index))[0]\n",
    "def pearson_coef(data):\n",
    "    return data.corr()['target']['preds']\n",
    "\n",
    "def evaluate_metric(valid_df):\n",
    "    return np.mean(valid_df[['time_id_', 'target', 'preds']].groupby('time_id').apply(pearson_coef))"
   ]
  },
  {
   "cell_type": "code",
   "execution_count": 12,
   "id": "5d1a00d9",
   "metadata": {
    "execution": {
     "iopub.execute_input": "2022-04-22T03:20:28.964210Z",
     "iopub.status.busy": "2022-04-22T03:20:28.962998Z",
     "iopub.status.idle": "2022-04-22T03:20:32.576172Z",
     "shell.execute_reply": "2022-04-22T03:20:32.575684Z",
     "shell.execute_reply.started": "2022-04-20T22:24:56.470606Z"
    },
    "papermill": {
     "duration": 3.662685,
     "end_time": "2022-04-22T03:20:32.576336",
     "exception": false,
     "start_time": "2022-04-22T03:20:28.913651",
     "status": "completed"
    },
    "tags": []
   },
   "outputs": [],
   "source": [
    "def get_model_best(ft_units, x_units, x_dropout):\n",
    "    investment_id_inputs = tf.keras.Input((1, ), dtype=tf.uint16)\n",
    "    features_inputs = tf.keras.Input((300, ), dtype=tf.float16)\n",
    "    \n",
    "    investment_id_x = investment_id_lookup_layer2(investment_id_inputs)\n",
    "    investment_id_x = layers.Embedding(investment_id_size2, 32, input_length=1)(investment_id_x)\n",
    "    investment_id_x = layers.Reshape((-1, ))(investment_id_x)\n",
    "    investment_id_x = layers.Dense(128, activation='swish')(investment_id_x)\n",
    "    investment_id_x = layers.Dense(128, activation='swish')(investment_id_x)\n",
    "    investment_id_x = layers.Dense(128, activation='swish')(investment_id_x)\n",
    "    \n",
    "    feature_x = layers.Dense(256, activation='swish')(features_inputs)\n",
    "    for hu in ft_units:\n",
    "        feature_x = layers.Dense(hu, activation='swish')(feature_x)\n",
    "    \n",
    "    x = layers.Concatenate(axis=1)([investment_id_x, feature_x])\n",
    "    \n",
    "    for i in range(len(x_units)):\n",
    "        x = tf.keras.layers.Dense(x_units[i], kernel_regularizer=\"l2\")(x) #v8\n",
    "        x = tf.keras.layers.BatchNormalization()(x) #v7\n",
    "        x = tf.keras.layers.Activation('swish')(x) #v7\n",
    "        x = tf.keras.layers.Dropout(x_dropout[i])(x) #v8\n",
    "        \n",
    "    output = layers.Dense(1)(x)\n",
    "    rmse = keras.metrics.RootMeanSquaredError(name=\"rmse\")\n",
    "    model = tf.keras.Model(inputs=[investment_id_inputs, features_inputs], outputs=[output])\n",
    "    model.compile(optimizer=tf.optimizers.Adam(0.0001), loss='mse', metrics=['mse', \"mae\", \"mape\", rmse])\n",
    "    return model\n",
    "\n",
    "params = {\n",
    "    'ft_units': [256,256],\n",
    "    'x_units': [512, 256, 128, 32],\n",
    "    'x_dropout': [0.4, 0.3, 0.2, 0.1]\n",
    "#           'lr':1e-3, \n",
    "         }\n",
    "\n",
    "models_best = []\n",
    "scores = []\n",
    "for i in range(7):\n",
    "    model = get_model_best(**params)\n",
    "    model.load_weights(f\"../input/wmodels/best/model_{i}.tf\")\n",
    "    models_best.append(model)"
   ]
  },
  {
   "cell_type": "markdown",
   "id": "b5edeb69",
   "metadata": {
    "papermill": {
     "duration": 0.033755,
     "end_time": "2022-04-22T03:20:32.644849",
     "exception": false,
     "start_time": "2022-04-22T03:20:32.611094",
     "status": "completed"
    },
    "tags": []
   },
   "source": [
    "## 2.1 Augment Model: Gaussian_Conv1 + Conv2d Model: Account for Spatial/Area Relationship"
   ]
  },
  {
   "cell_type": "code",
   "execution_count": 13,
   "id": "3d95a57d",
   "metadata": {
    "execution": {
     "iopub.execute_input": "2022-04-22T03:20:32.726829Z",
     "iopub.status.busy": "2022-04-22T03:20:32.717196Z",
     "iopub.status.idle": "2022-04-22T03:20:32.737582Z",
     "shell.execute_reply": "2022-04-22T03:20:32.738036Z",
     "shell.execute_reply.started": "2022-04-20T22:24:59.838515Z"
    },
    "papermill": {
     "duration": 0.06159,
     "end_time": "2022-04-22T03:20:32.738188",
     "exception": false,
     "start_time": "2022-04-22T03:20:32.676598",
     "status": "completed"
    },
    "tags": []
   },
   "outputs": [],
   "source": [
    "def get_model6():\n",
    "    features_inputs = tf.keras.Input((300, ), dtype=tf.float16)\n",
    "    \n",
    "    features_x = layers.GaussianNoise(0.1)(features_inputs)\n",
    "    ## feature ##\n",
    "    feature_x = layers.Dense(256, activation='swish')(features_x)\n",
    "    feature_x = layers.Dropout(0.1)(feature_x)\n",
    "    ## convolution 1 ##\n",
    "    feature_x = layers.Reshape((-1,1))(feature_x)\n",
    "    feature_x = layers.Conv1D(filters=16, kernel_size=4, strides=1, padding='same')(feature_x)\n",
    "    feature_x = layers.BatchNormalization()(feature_x)\n",
    "    feature_x = layers.LeakyReLU()(feature_x)\n",
    "    ## convolution 2 ##\n",
    "    feature_x = layers.Conv1D(filters=16, kernel_size=4, strides=4, padding='same')(feature_x)\n",
    "    feature_x = layers.BatchNormalization()(feature_x)\n",
    "    feature_x = layers.LeakyReLU()(feature_x)\n",
    "    ## convolution 3 ##\n",
    "    feature_x = layers.Conv1D(filters=64, kernel_size=4, strides=1, padding='same')(feature_x)\n",
    "    feature_x = layers.BatchNormalization()(feature_x)\n",
    "    feature_x = layers.LeakyReLU()(feature_x)\n",
    "    ## convolution 4 ##\n",
    "    feature_x = layers.Conv1D(filters=64, kernel_size=4, strides=4, padding='same')(feature_x)\n",
    "    feature_x = layers.BatchNormalization()(feature_x)\n",
    "    feature_x = layers.LeakyReLU()(feature_x)\n",
    "    ## convolution 5 ##\n",
    "    feature_x = layers.Conv1D(filters=64, kernel_size=4, strides=2, padding='same')(feature_x)\n",
    "    feature_x = layers.BatchNormalization()(feature_x)\n",
    "    feature_x = layers.LeakyReLU()(feature_x)\n",
    "    ## flatten ##\n",
    "    feature_x = layers.Flatten()(feature_x)\n",
    " \n",
    "    x = layers.Dense(512, activation='swish', kernel_regularizer=\"l2\")(feature_x)\n",
    "    \n",
    "    x = layers.Dropout(0.1)(x)\n",
    "    x = layers.Dense(128, activation='swish', kernel_regularizer=\"l2\")(x)\n",
    "    x = layers.Dropout(0.1)(x)\n",
    "    x = layers.Dense(32, activation='swish', kernel_regularizer=\"l2\")(x)\n",
    "    x = layers.Dropout(0.1)(x)\n",
    "    output = layers.Dense(1)(x)\n",
    "    rmse = keras.metrics.RootMeanSquaredError(name=\"rmse\")\n",
    "    model = tf.keras.Model(inputs=[features_inputs], outputs=[output])\n",
    "    model.compile(optimizer=tf.optimizers.Adam(0.001), loss='mse', metrics=['mse', \"mae\", \"mape\", rmse])\n",
    "    return model\n",
    "\n",
    "def get_model7():\n",
    "    features_inputs = tf.keras.Input((300, ), dtype=tf.float16)\n",
    "    \n",
    "    ## Dense 1 ##\n",
    "    feature_x = layers.Dense(256, activation='swish')(features_inputs)\n",
    "    feature_x = layers.Dropout(0.1)(feature_x)\n",
    "    ## convolution 1 ##\n",
    "    feature_x = layers.Reshape((-1,1))(feature_x)\n",
    "    feature_x = layers.Conv1D(filters=16, kernel_size=4, strides=1, padding='same')(feature_x)\n",
    "    feature_x = layers.BatchNormalization()(feature_x)\n",
    "    feature_x = layers.LeakyReLU()(feature_x)\n",
    "    ## convolution 2 ##\n",
    "    feature_x = layers.Conv1D(filters=16, kernel_size=4, strides=4, padding='same')(feature_x)\n",
    "    feature_x = layers.BatchNormalization()(feature_x)\n",
    "    feature_x = layers.LeakyReLU()(feature_x)\n",
    "    ## convolution 3 ##\n",
    "    feature_x = layers.Conv1D(filters=64, kernel_size=4, strides=1, padding='same')(feature_x)\n",
    "    feature_x = layers.BatchNormalization()(feature_x)\n",
    "    feature_x = layers.LeakyReLU()(feature_x)\n",
    "\n",
    "    ## convolution2D 1 ##\n",
    "    feature_x = layers.Reshape((64,64,1))(feature_x)\n",
    "    feature_x = layers.Conv2D(filters=32, kernel_size=4, strides=1, padding='same')(feature_x)\n",
    "    feature_x = layers.BatchNormalization()(feature_x)\n",
    "    feature_x = layers.LeakyReLU()(feature_x)\n",
    "    ## convolution2D 2 ##\n",
    "    feature_x = layers.Conv2D(filters=32, kernel_size=4, strides=4, padding='same')(feature_x)\n",
    "    feature_x = layers.BatchNormalization()(feature_x)\n",
    "    feature_x = layers.LeakyReLU()(feature_x)\n",
    "    ## convolution2D 3 ##\n",
    "    feature_x = layers.Conv2D(filters=32, kernel_size=4, strides=4, padding='same')(feature_x)\n",
    "    feature_x = layers.BatchNormalization()(feature_x)\n",
    "    feature_x = layers.LeakyReLU()(feature_x)\n",
    "\n",
    "    ## flatten ##\n",
    "    feature_x = layers.Flatten()(feature_x)\n",
    "    ## Dense 3 ##\n",
    "    x = layers.Dense(512, activation='swish', kernel_regularizer=\"l2\")(feature_x)\n",
    "    ## Dense 4 ##\n",
    "    x = layers.Dropout(0.1)(x)\n",
    "    ## Dense 5 ##    \n",
    "    x = layers.Dense(128, activation='swish', kernel_regularizer=\"l2\")(x)\n",
    "    x = layers.Dropout(0.1)(x)\n",
    "    ## Dense 6 ##\n",
    "    x = layers.Dense(32, activation='swish', kernel_regularizer=\"l2\")(x)\n",
    "    x = layers.Dropout(0.1)(x)\n",
    "    ## Dense 7 ##\n",
    "    output = layers.Dense(1)(x)\n",
    "    rmse = keras.metrics.RootMeanSquaredError(name=\"rmse\")\n",
    "    model = tf.keras.Model(inputs=[features_inputs], outputs=[output])\n",
    "    model.compile(optimizer=tf.optimizers.Adam(0.001), loss='mse', metrics=['mse', \"mae\", \"mape\", rmse])\n",
    "    return model"
   ]
  },
  {
   "cell_type": "markdown",
   "id": "212eae90",
   "metadata": {
    "papermill": {
     "duration": 0.030921,
     "end_time": "2022-04-22T03:20:32.800273",
     "exception": false,
     "start_time": "2022-04-22T03:20:32.769352",
     "status": "completed"
    },
    "tags": []
   },
   "source": [
    "## 2.2 Augment2: Feature_Time Model"
   ]
  },
  {
   "cell_type": "code",
   "execution_count": 14,
   "id": "5dc1b9f3",
   "metadata": {
    "execution": {
     "iopub.execute_input": "2022-04-22T03:20:32.873111Z",
     "iopub.status.busy": "2022-04-22T03:20:32.871471Z",
     "iopub.status.idle": "2022-04-22T03:20:32.873744Z",
     "shell.execute_reply": "2022-04-22T03:20:32.874132Z",
     "shell.execute_reply.started": "2022-04-20T22:24:59.886971Z"
    },
    "papermill": {
     "duration": 0.043013,
     "end_time": "2022-04-22T03:20:32.874250",
     "exception": false,
     "start_time": "2022-04-22T03:20:32.831237",
     "status": "completed"
    },
    "tags": []
   },
   "outputs": [],
   "source": [
    "def get_model_ft():\n",
    "    investment_id_input = tf.keras.Input(shape=(1,), dtype=tf.uint16, name='investment_id')\n",
    "    inv_x = layers.Dense(64, activation='relu')(investment_id_input)\n",
    "    inv_x = layers.Dropout(0.2)(inv_x)\n",
    "\n",
    "    features_input = tf.keras.Input(shape=(300,), dtype=tf.float16, name='features')\n",
    "    f_x = layers.Dense(512, activation='relu')(features_input)\n",
    "    f_x = layers.Dropout(0.25)(f_x)\n",
    "    f_x = layers.Dense(256, activation='relu')(f_x)\n",
    "    f_x = layers.Dropout(0.2)(f_x)\n",
    "\n",
    "    time_id_input = tf.keras.Input(shape=(1,), dtype=tf.uint16, name='time_id')\n",
    "    time_x = layers.Dense(64, activation='relu')(time_id_input)\n",
    "    time_x = layers.Dropout(0.2)(time_x)\n",
    "\n",
    "    concatenated = layers.concatenate([inv_x, f_x, time_x], axis=-1)\n",
    "    output = layers.Dense(1)(concatenated)\n",
    "\n",
    "    model = tf.keras.models.Model([investment_id_input, features_input, time_id_input], output, name='model_with_time_id')\n",
    "    \n",
    "    model.compile(optimizer='rmsprop', loss='mse', metrics=['mse', 'mae', 'mape'])\n",
    "    return model"
   ]
  },
  {
   "cell_type": "code",
   "execution_count": 15,
   "id": "42be5d86",
   "metadata": {
    "execution": {
     "iopub.execute_input": "2022-04-22T03:20:33.114394Z",
     "iopub.status.busy": "2022-04-22T03:20:33.113379Z",
     "iopub.status.idle": "2022-04-22T03:20:33.182257Z",
     "shell.execute_reply": "2022-04-22T03:20:33.183059Z",
     "shell.execute_reply.started": "2022-04-20T22:24:59.911171Z"
    },
    "papermill": {
     "duration": 0.277709,
     "end_time": "2022-04-22T03:20:33.183223",
     "exception": false,
     "start_time": "2022-04-22T03:20:32.905514",
     "status": "completed"
    },
    "tags": []
   },
   "outputs": [
    {
     "name": "stdout",
     "output_type": "stream",
     "text": [
      "Model: \"model_with_time_id\"\n",
      "__________________________________________________________________________________________________\n",
      "Layer (type)                    Output Shape         Param #     Connected to                     \n",
      "==================================================================================================\n",
      "features (InputLayer)           [(None, 300)]        0                                            \n",
      "__________________________________________________________________________________________________\n",
      "dense_78 (Dense)                (None, 512)          154112      features[0][0]                   \n",
      "__________________________________________________________________________________________________\n",
      "investment_id (InputLayer)      [(None, 1)]          0                                            \n",
      "__________________________________________________________________________________________________\n",
      "dropout_29 (Dropout)            (None, 512)          0           dense_78[0][0]                   \n",
      "__________________________________________________________________________________________________\n",
      "time_id (InputLayer)            [(None, 1)]          0                                            \n",
      "__________________________________________________________________________________________________\n",
      "dense_77 (Dense)                (None, 64)           128         investment_id[0][0]              \n",
      "__________________________________________________________________________________________________\n",
      "dense_79 (Dense)                (None, 256)          131328      dropout_29[0][0]                 \n",
      "__________________________________________________________________________________________________\n",
      "dense_80 (Dense)                (None, 64)           128         time_id[0][0]                    \n",
      "__________________________________________________________________________________________________\n",
      "dropout_28 (Dropout)            (None, 64)           0           dense_77[0][0]                   \n",
      "__________________________________________________________________________________________________\n",
      "dropout_30 (Dropout)            (None, 256)          0           dense_79[0][0]                   \n",
      "__________________________________________________________________________________________________\n",
      "dropout_31 (Dropout)            (None, 64)           0           dense_80[0][0]                   \n",
      "__________________________________________________________________________________________________\n",
      "concatenate_7 (Concatenate)     (None, 384)          0           dropout_28[0][0]                 \n",
      "                                                                 dropout_30[0][0]                 \n",
      "                                                                 dropout_31[0][0]                 \n",
      "__________________________________________________________________________________________________\n",
      "dense_81 (Dense)                (None, 1)            385         concatenate_7[0][0]              \n",
      "==================================================================================================\n",
      "Total params: 286,081\n",
      "Trainable params: 286,081\n",
      "Non-trainable params: 0\n",
      "__________________________________________________________________________________________________\n"
     ]
    }
   ],
   "source": [
    "gc.collect()\n",
    "model_ft = get_model_ft()\n",
    "model_ft.summary()"
   ]
  },
  {
   "cell_type": "code",
   "execution_count": 16,
   "id": "f7cb9b9c",
   "metadata": {
    "execution": {
     "iopub.execute_input": "2022-04-22T03:20:33.265480Z",
     "iopub.status.busy": "2022-04-22T03:20:33.264243Z",
     "iopub.status.idle": "2022-04-22T03:20:47.732147Z",
     "shell.execute_reply": "2022-04-22T03:20:47.731663Z",
     "shell.execute_reply.started": "2022-04-20T22:25:00.212884Z"
    },
    "papermill": {
     "duration": 14.514637,
     "end_time": "2022-04-22T03:20:47.732277",
     "exception": false,
     "start_time": "2022-04-22T03:20:33.217640",
     "status": "completed"
    },
    "tags": []
   },
   "outputs": [
    {
     "name": "stderr",
     "output_type": "stream",
     "text": [
      "2022-04-22 03:20:33.371194: W tensorflow/core/util/tensor_slice_reader.cc:95] Could not open ../input/dnn-base/model_0: Data loss: file is too short to be an sstable: perhaps your file is in a different file format and you need to use a different restore operator?\n",
      "2022-04-22 03:20:33.697577: W tensorflow/core/util/tensor_slice_reader.cc:95] Could not open ../input/dnn-base/model_1: Data loss: file is too short to be an sstable: perhaps your file is in a different file format and you need to use a different restore operator?\n",
      "2022-04-22 03:20:33.994000: W tensorflow/core/util/tensor_slice_reader.cc:95] Could not open ../input/dnn-base/model_2: Data loss: file is too short to be an sstable: perhaps your file is in a different file format and you need to use a different restore operator?\n",
      "2022-04-22 03:20:34.286373: W tensorflow/core/util/tensor_slice_reader.cc:95] Could not open ../input/dnn-base/model_3: Data loss: file is too short to be an sstable: perhaps your file is in a different file format and you need to use a different restore operator?\n",
      "2022-04-22 03:20:34.620207: W tensorflow/core/util/tensor_slice_reader.cc:95] Could not open ../input/dnn-base/model_4: Data loss: file is too short to be an sstable: perhaps your file is in a different file format and you need to use a different restore operator?\n",
      "2022-04-22 03:20:34.945881: W tensorflow/core/util/tensor_slice_reader.cc:95] Could not open ../input/train-dnn-v2-10fold/model_0: Data loss: file is too short to be an sstable: perhaps your file is in a different file format and you need to use a different restore operator?\n",
      "2022-04-22 03:20:35.314798: W tensorflow/core/util/tensor_slice_reader.cc:95] Could not open ../input/train-dnn-v2-10fold/model_1: Data loss: file is too short to be an sstable: perhaps your file is in a different file format and you need to use a different restore operator?\n",
      "2022-04-22 03:20:35.665660: W tensorflow/core/util/tensor_slice_reader.cc:95] Could not open ../input/train-dnn-v2-10fold/model_2: Data loss: file is too short to be an sstable: perhaps your file is in a different file format and you need to use a different restore operator?\n",
      "2022-04-22 03:20:36.206069: W tensorflow/core/util/tensor_slice_reader.cc:95] Could not open ../input/train-dnn-v2-10fold/model_3: Data loss: file is too short to be an sstable: perhaps your file is in a different file format and you need to use a different restore operator?\n",
      "2022-04-22 03:20:36.597047: W tensorflow/core/util/tensor_slice_reader.cc:95] Could not open ../input/train-dnn-v2-10fold/model_4: Data loss: file is too short to be an sstable: perhaps your file is in a different file format and you need to use a different restore operator?\n",
      "2022-04-22 03:20:36.952497: W tensorflow/core/util/tensor_slice_reader.cc:95] Could not open ../input/train-dnn-v2-10fold/model_5: Data loss: file is too short to be an sstable: perhaps your file is in a different file format and you need to use a different restore operator?\n",
      "2022-04-22 03:20:37.321701: W tensorflow/core/util/tensor_slice_reader.cc:95] Could not open ../input/train-dnn-v2-10fold/model_6: Data loss: file is too short to be an sstable: perhaps your file is in a different file format and you need to use a different restore operator?\n",
      "2022-04-22 03:20:37.691772: W tensorflow/core/util/tensor_slice_reader.cc:95] Could not open ../input/train-dnn-v2-10fold/model_7: Data loss: file is too short to be an sstable: perhaps your file is in a different file format and you need to use a different restore operator?\n",
      "2022-04-22 03:20:38.071001: W tensorflow/core/util/tensor_slice_reader.cc:95] Could not open ../input/train-dnn-v2-10fold/model_8: Data loss: file is too short to be an sstable: perhaps your file is in a different file format and you need to use a different restore operator?\n",
      "2022-04-22 03:20:38.440049: W tensorflow/core/util/tensor_slice_reader.cc:95] Could not open ../input/train-dnn-v2-10fold/model_9: Data loss: file is too short to be an sstable: perhaps your file is in a different file format and you need to use a different restore operator?\n",
      "2022-04-22 03:20:45.419063: W tensorflow/core/util/tensor_slice_reader.cc:95] Could not open ../input/mse10-model-weights/model_0: Data loss: file is too short to be an sstable: perhaps your file is in a different file format and you need to use a different restore operator?\n",
      "2022-04-22 03:20:45.613253: W tensorflow/core/util/tensor_slice_reader.cc:95] Could not open ../input/mse10-model-weights/model_1: Data loss: file is too short to be an sstable: perhaps your file is in a different file format and you need to use a different restore operator?\n",
      "2022-04-22 03:20:45.818190: W tensorflow/core/util/tensor_slice_reader.cc:95] Could not open ../input/mse10-model-weights/model_2: Data loss: file is too short to be an sstable: perhaps your file is in a different file format and you need to use a different restore operator?\n",
      "2022-04-22 03:20:46.017130: W tensorflow/core/util/tensor_slice_reader.cc:95] Could not open ../input/mse10-model-weights/model_3: Data loss: file is too short to be an sstable: perhaps your file is in a different file format and you need to use a different restore operator?\n",
      "2022-04-22 03:20:46.226823: W tensorflow/core/util/tensor_slice_reader.cc:95] Could not open ../input/mse10-model-weights/model_4: Data loss: file is too short to be an sstable: perhaps your file is in a different file format and you need to use a different restore operator?\n",
      "2022-04-22 03:20:46.422691: W tensorflow/core/util/tensor_slice_reader.cc:95] Could not open ../input/mse10-model-weights/model_5: Data loss: file is too short to be an sstable: perhaps your file is in a different file format and you need to use a different restore operator?\n",
      "2022-04-22 03:20:46.626019: W tensorflow/core/util/tensor_slice_reader.cc:95] Could not open ../input/mse10-model-weights/model_6: Data loss: file is too short to be an sstable: perhaps your file is in a different file format and you need to use a different restore operator?\n",
      "2022-04-22 03:20:46.922154: W tensorflow/core/util/tensor_slice_reader.cc:95] Could not open ../input/mse10-model-weights/model_7: Data loss: file is too short to be an sstable: perhaps your file is in a different file format and you need to use a different restore operator?\n",
      "2022-04-22 03:20:47.189254: W tensorflow/core/util/tensor_slice_reader.cc:95] Could not open ../input/mse10-model-weights/model_8: Data loss: file is too short to be an sstable: perhaps your file is in a different file format and you need to use a different restore operator?\n",
      "2022-04-22 03:20:47.427411: W tensorflow/core/util/tensor_slice_reader.cc:95] Could not open ../input/mse10-model-weights/model_9: Data loss: file is too short to be an sstable: perhaps your file is in a different file format and you need to use a different restore operator?\n"
     ]
    },
    {
     "data": {
      "text/plain": [
       "<tensorflow.python.training.tracking.util.CheckpointLoadStatus at 0x7facac57b9d0>"
      ]
     },
     "execution_count": 16,
     "metadata": {},
     "output_type": "execute_result"
    }
   ],
   "source": [
    "models = []\n",
    "\n",
    "for i in range(5):\n",
    "    model = get_model()\n",
    "    model.load_weights(f'../input/dnn-base/model_{i}')\n",
    "    models.append(model)\n",
    "\n",
    "for i in range(10):\n",
    "    model = get_model2()\n",
    "    model.load_weights(f'../input/train-dnn-v2-10fold/model_{i}')\n",
    "    models.append(model)\n",
    "\n",
    "for i in range(5):\n",
    "    model = MyModel(investment_id=investment_id, device='cpu')\n",
    "    model.load_weights(f'../input/masked-model-weights/random_mask_DNN_ensemble_weights/model{i}/model_{i}.tf')\n",
    "    models.append(model)\n",
    "    \n",
    "    \n",
    "models2 = []\n",
    "    \n",
    "for i in range(5):\n",
    "    model = get_model5()\n",
    "    model.load_weights(f'../input/prediction-including-spatial-info-with-conv1d/model_{i}.tf')\n",
    "    models2.append(model)\n",
    "    \n",
    "for i in range(5):\n",
    "    model = get_model6()\n",
    "    model.load_weights(f'../input/gaussian-noise-model-weights/model_{i}.tf')\n",
    "    models2.append(model)\n",
    "\n",
    "for i in range(5):\n",
    "    model = get_model7()\n",
    "    model.load_weights(f'../input/altconv2dweights/model_{i}.tf')\n",
    "    models2.append(model)\n",
    "    \n",
    "models3 = []\n",
    "    \n",
    "for i in range(10):\n",
    "    model = get_model_dr04()\n",
    "    model.load_weights(f'../input/mse10-model-weights/model_{i}')\n",
    "    models3.append(model)\n",
    "\n",
    "model_ft = get_model_ft()\n",
    "model_ft.load_weights(f'../input/feature-time-model/ns_model_with_time_id.tf')"
   ]
  },
  {
   "cell_type": "markdown",
   "id": "97fd9db8",
   "metadata": {
    "papermill": {
     "duration": 0.040225,
     "end_time": "2022-04-22T03:20:47.813909",
     "exception": false,
     "start_time": "2022-04-22T03:20:47.773684",
     "status": "completed"
    },
    "tags": []
   },
   "source": [
    "# Transformer_masked_model"
   ]
  },
  {
   "cell_type": "code",
   "execution_count": 17,
   "id": "aa5c0857",
   "metadata": {
    "execution": {
     "iopub.execute_input": "2022-04-22T03:20:47.902266Z",
     "iopub.status.busy": "2022-04-22T03:20:47.901409Z",
     "iopub.status.idle": "2022-04-22T03:20:47.903337Z",
     "shell.execute_reply": "2022-04-22T03:20:47.903765Z",
     "shell.execute_reply.started": "2022-04-20T22:25:11.72059Z"
    },
    "papermill": {
     "duration": 0.049191,
     "end_time": "2022-04-22T03:20:47.903894",
     "exception": false,
     "start_time": "2022-04-22T03:20:47.854703",
     "status": "completed"
    },
    "tags": []
   },
   "outputs": [],
   "source": [
    "def gen_ids_and_skf_idxs():\n",
    "    train = pd.read_pickle('../input/ubiquant-market-prediction-half-precision-pickle/train.pkl')\n",
    "    investment_id = train[[\"investment_id\"]].astype('int64')\n",
    "    train.pop(\"investment_id\")\n",
    "    train.pop(\"time_id\")\n",
    "    train.pop(\"target\")\n",
    "    skf = StratifiedKFold(5, shuffle=True, random_state=42)\n",
    "    idxs = list(enumerate(skf.split(train, investment_id)))\n",
    "    del train\n",
    "    gc.collect()\n",
    "    return investment_id, idxs"
   ]
  },
  {
   "cell_type": "code",
   "execution_count": 18,
   "id": "7290863c",
   "metadata": {
    "execution": {
     "iopub.execute_input": "2022-04-22T03:20:47.989966Z",
     "iopub.status.busy": "2022-04-22T03:20:47.989068Z",
     "iopub.status.idle": "2022-04-22T03:20:47.993727Z",
     "shell.execute_reply": "2022-04-22T03:20:47.993264Z",
     "shell.execute_reply.started": "2022-04-20T22:25:11.728618Z"
    },
    "papermill": {
     "duration": 0.049396,
     "end_time": "2022-04-22T03:20:47.993840",
     "exception": false,
     "start_time": "2022-04-22T03:20:47.944444",
     "status": "completed"
    },
    "tags": []
   },
   "outputs": [
    {
     "data": {
      "text/plain": [
       "'investment_id, idxs = gen_ids_and_skf_idxs()\\n\\ninvestment_ids = list(np.unique(investment_id.values))\\ninvestment_id_size = len(investment_ids) + 1\\nid_lookup_layer = layers.IntegerLookup(max_tokens=investment_id_size)\\nid_lookup_layer.adapt(investment_id)'"
      ]
     },
     "execution_count": 18,
     "metadata": {},
     "output_type": "execute_result"
    }
   ],
   "source": [
    "'''investment_id, idxs = gen_ids_and_skf_idxs()\n",
    "\n",
    "investment_ids = list(np.unique(investment_id.values))\n",
    "investment_id_size = len(investment_ids) + 1\n",
    "id_lookup_layer = layers.IntegerLookup(max_tokens=investment_id_size)\n",
    "id_lookup_layer.adapt(investment_id)'''"
   ]
  },
  {
   "cell_type": "code",
   "execution_count": 19,
   "id": "dc675858",
   "metadata": {
    "execution": {
     "iopub.execute_input": "2022-04-22T03:20:48.084525Z",
     "iopub.status.busy": "2022-04-22T03:20:48.083798Z",
     "iopub.status.idle": "2022-04-22T03:20:48.086595Z",
     "shell.execute_reply": "2022-04-22T03:20:48.086134Z",
     "shell.execute_reply.started": "2022-04-20T22:25:11.741949Z"
    },
    "papermill": {
     "duration": 0.05193,
     "end_time": "2022-04-22T03:20:48.086713",
     "exception": false,
     "start_time": "2022-04-22T03:20:48.034783",
     "status": "completed"
    },
    "tags": []
   },
   "outputs": [],
   "source": [
    "class TransformerBlock(layers.Layer):\n",
    "    def __init__(self, embed_dim, num_heads, ff_dim, rate=0.1):\n",
    "        super(TransformerBlock, self).__init__()\n",
    "        self.att = layers.MultiHeadAttention(num_heads=num_heads, key_dim=embed_dim)\n",
    "        self.ffn = keras.Sequential(\n",
    "            [layers.Dense(ff_dim, activation=\"relu\"), layers.Dense(embed_dim),]\n",
    "        )\n",
    "        self.layernorm1 = layers.LayerNormalization(epsilon=1e-6)\n",
    "        self.layernorm2 = layers.LayerNormalization(epsilon=1e-6)\n",
    "        self.dropout1 = layers.Dropout(rate)\n",
    "        self.dropout2 = layers.Dropout(rate)\n",
    "\n",
    "    def call(self, inputs, training):\n",
    "        attn_output = self.att(inputs, inputs)\n",
    "        attn_output = self.dropout1(attn_output, training=training)\n",
    "        out1 = self.layernorm1(inputs + attn_output)\n",
    "        ffn_output = self.ffn(out1)\n",
    "        ffn_output = self.dropout2(ffn_output, training=training)\n",
    "        return self.layernorm2(out1 + ffn_output)"
   ]
  },
  {
   "cell_type": "code",
   "execution_count": 20,
   "id": "4451e1ec",
   "metadata": {
    "execution": {
     "iopub.execute_input": "2022-04-22T03:20:48.188860Z",
     "iopub.status.busy": "2022-04-22T03:20:48.187101Z",
     "iopub.status.idle": "2022-04-22T03:20:48.189569Z",
     "shell.execute_reply": "2022-04-22T03:20:48.190044Z",
     "shell.execute_reply.started": "2022-04-20T22:25:11.753033Z"
    },
    "papermill": {
     "duration": 0.061481,
     "end_time": "2022-04-22T03:20:48.190171",
     "exception": false,
     "start_time": "2022-04-22T03:20:48.128690",
     "status": "completed"
    },
    "tags": []
   },
   "outputs": [],
   "source": [
    "def get_model_transformer():\n",
    "  embed_dim = 300  # Embedding size for each token\n",
    "  num_heads = 8  # Number of attention heads\n",
    "  ff_dim = 512  # Hidden layer size in feed forward network inside transformer\n",
    "\n",
    "  transformer_block = TransformerBlock(embed_dim, num_heads, ff_dim)\n",
    "  features_input = tf.keras.Input((300,), dtype=tf.float32)\n",
    "  investment_id_input = tf.keras.Input((1,))\n",
    "\n",
    "  investment_id_x = investment_id_lookup_layer(investment_id_input)\n",
    "  investment_id_x = layers.Embedding(investment_id_size, 32)(investment_id_x)\n",
    "  investment_id_x = layers.Dense(64, activation='swish', kernel_initializer='he_normal', bias_initializer='zeros')(investment_id_x)\n",
    "  investment_id_x = layers.Dropout(0.5)(investment_id_x)\n",
    "  investment_id_x = layers.Dense(32, activation='swish', kernel_initializer='he_normal', bias_initializer='zeros')(investment_id_x)\n",
    "  investment_id_x = layers.Dropout(0.5)(investment_id_x)\n",
    "  investment_id_x = tf.squeeze(investment_id_x, axis=1)\n",
    "\n",
    "  features_inputs = tf.expand_dims(investment_id_x, axis = -1) + tf.expand_dims(features_input, axis = 1)\n",
    "  # (None, 32, 300)\n",
    "\n",
    "# 6 transformer blocks\n",
    "  features_x = transformer_block(features_inputs)\n",
    "\n",
    "  features_x = layers.Reshape((-1,))(features_x)\n",
    "# MLP for output\n",
    "  output_x = layers.Dense(512, activation='swish',\n",
    "                          kernel_initializer=initializers.RandomNormal(stddev=1))(features_x)\n",
    "  output_x = layers.Dropout(0.6)(output_x)\n",
    "  output_x = layers.Dense(256, activation='swish',\n",
    "                          kernel_initializer=initializers.RandomNormal(stddev=1))(output_x)\n",
    "  output_x = layers.Dropout(0.6)(output_x)\n",
    "  output_x = layers.Dense(128, activation='swish',\n",
    "                          kernel_initializer=initializers.RandomNormal(stddev=1))(output_x)\n",
    "  output_x = layers.Dense(64, activation='swish',\n",
    "                          kernel_initializer=initializers.RandomNormal(stddev=1),\n",
    "                          kernel_regularizer=\"l2\")(output_x)\n",
    "  output_x = layers.Dropout(0.6)(output_x)\n",
    "  output_x = layers.Dense(32, activation='swish',\n",
    "                          kernel_initializer=initializers.RandomNormal(stddev=1),\n",
    "                          kernel_regularizer=\"l2\")(output_x)\n",
    "  output_x = layers.Dropout(0.6)(output_x)\n",
    "  output_x = layers.Dense(16, activation='swish',\n",
    "                          kernel_initializer=initializers.RandomNormal(stddev=1),\n",
    "                          kernel_regularizer=\"l2\")(output_x)\n",
    "  output_x = layers.Dropout(0.6)(output_x)\n",
    "  output = layers.Dense(1)(output_x)\n",
    "  output = tf.keras.layers.BatchNormalization(axis=1)(output)\n",
    "\n",
    "# Model compilation\n",
    "  rmse = keras.metrics.RootMeanSquaredError(name=\"rmse\")\n",
    "  model = tf.keras.Model(inputs=[investment_id_input, features_input], outputs=[output])\n",
    "  # learning rate decay in Adam\n",
    "  initial_learning_rate = 5e-4\n",
    "  lr_schedule = tf.keras.optimizers.schedules.ExponentialDecay(\n",
    "        initial_learning_rate,\n",
    "        decay_steps=10000,\n",
    "        decay_rate=0.9,\n",
    "        staircase=True)\n",
    "  model.compile(optimizer=tf.optimizers.Adam(learning_rate=lr_schedule), \n",
    "                loss='mse', \n",
    "                metrics=[rmse, correlation])\n",
    "  return model"
   ]
  },
  {
   "cell_type": "markdown",
   "id": "da5b69aa",
   "metadata": {
    "papermill": {
     "duration": 0.040973,
     "end_time": "2022-04-22T03:20:48.272311",
     "exception": false,
     "start_time": "2022-04-22T03:20:48.231338",
     "status": "completed"
    },
    "tags": []
   },
   "source": [
    "# End of transformer_masked model"
   ]
  },
  {
   "cell_type": "code",
   "execution_count": 21,
   "id": "dab8b2f6",
   "metadata": {
    "execution": {
     "iopub.execute_input": "2022-04-22T03:20:48.368867Z",
     "iopub.status.busy": "2022-04-22T03:20:48.368048Z",
     "iopub.status.idle": "2022-04-22T03:20:48.370740Z",
     "shell.execute_reply": "2022-04-22T03:20:48.370158Z",
     "shell.execute_reply.started": "2022-04-20T22:25:11.772378Z"
    },
    "papermill": {
     "duration": 0.056746,
     "end_time": "2022-04-22T03:20:48.370864",
     "exception": false,
     "start_time": "2022-04-22T03:20:48.314118",
     "status": "completed"
    },
    "tags": []
   },
   "outputs": [],
   "source": [
    "def get_model_corr(ft_units, x_units, x_dropout):\n",
    "    \n",
    "    # investment_id\n",
    "    investment_id_inputs = tf.keras.Input((1, ), dtype=tf.uint16)\n",
    "    investment_id_x = investment_id_lookup_layer(investment_id_inputs)\n",
    "    investment_id_x = layers.Embedding(investment_id_size, 32, input_length=1)(investment_id_x)\n",
    "    investment_id_x = layers.Reshape((-1, ))(investment_id_x)\n",
    "    investment_id_x = layers.Dense(128, activation='swish')(investment_id_x)\n",
    "    investment_id_x = layers.Dense(128, activation='swish')(investment_id_x) \n",
    "    investment_id_x = layers.Dense(128, activation='swish')(investment_id_x)\n",
    "    \n",
    "    # features_inputs\n",
    "    features_inputs = tf.keras.Input((300, ), dtype=tf.float16)\n",
    "    bn = tf.keras.layers.BatchNormalization()(features_inputs)\n",
    "    gn = tf.keras.layers.GaussianNoise(0.035)(bn)\n",
    "    feature_x = layers.Dense(300, activation='swish')(gn)\n",
    "    feature_x = tf.keras.layers.Dropout(0.5)(feature_x)\n",
    "    \n",
    "    for hu in ft_units:\n",
    "        feature_x = layers.Dense(hu, activation='swish')(feature_x)\n",
    "#         feature_x = tf.keras.layers.Activation('swish')(feature_x)\n",
    "        feature_x = tf.keras.layers.Dropout(0.35)(feature_x)\n",
    "    \n",
    "    x = layers.Concatenate(axis=1)([investment_id_x, feature_x])\n",
    "    \n",
    "    for i in range(len(x_units)):\n",
    "        x = tf.keras.layers.Dense(x_units[i], kernel_regularizer=\"l2\")(x) \n",
    "        x = tf.keras.layers.Activation('swish')(x)\n",
    "        x = tf.keras.layers.Dropout(x_dropout[i])(x)\n",
    "        \n",
    "    output = layers.Dense(1)(x)\n",
    "    model = tf.keras.Model(inputs=[investment_id_inputs, features_inputs], outputs=[output])\n",
    "    model.compile(optimizer=tf.optimizers.Adam(0.0001), loss=correlationLoss, \n",
    "                  metrics=['mse', \"mae\", correlation])\n",
    "    return model\n",
    "\n",
    "\n",
    "params = {\n",
    "#     'num_columns': len(features), \n",
    "    'ft_units': [150, 75, 150 ,200],\n",
    "    'x_units': [512, 256, 128, 32],\n",
    "    'x_dropout': [0.44, 0.4, 0.33, 0.2] #4, 3, 2, 1\n",
    "#           'lr':1e-3, \n",
    "         }"
   ]
  },
  {
   "cell_type": "markdown",
   "id": "ec039ec3",
   "metadata": {
    "papermill": {
     "duration": 0.039782,
     "end_time": "2022-04-22T03:20:48.451390",
     "exception": false,
     "start_time": "2022-04-22T03:20:48.411608",
     "status": "completed"
    },
    "tags": []
   },
   "source": [
    "# 3. Validation"
   ]
  },
  {
   "cell_type": "code",
   "execution_count": 22,
   "id": "0a821e07",
   "metadata": {
    "execution": {
     "iopub.execute_input": "2022-04-22T03:20:48.544847Z",
     "iopub.status.busy": "2022-04-22T03:20:48.544191Z",
     "iopub.status.idle": "2022-04-22T03:20:48.563964Z",
     "shell.execute_reply": "2022-04-22T03:20:48.563533Z",
     "shell.execute_reply.started": "2022-04-20T22:25:11.788178Z"
    },
    "papermill": {
     "duration": 0.072308,
     "end_time": "2022-04-22T03:20:48.564066",
     "exception": false,
     "start_time": "2022-04-22T03:20:48.491758",
     "status": "completed"
    },
    "tags": []
   },
   "outputs": [],
   "source": [
    "def preprocess_test(investment_id, feature):\n",
    "    return (investment_id, feature), 0\n",
    "\n",
    "def preprocess_test_s(feature):\n",
    "    return (feature), 0\n",
    "\n",
    "def make_test_dataset(feature, investment_id, batch_size=1024):\n",
    "    ds = tf.data.Dataset.from_tensor_slices(((investment_id, feature)))\n",
    "    ds = ds.map(preprocess_test)\n",
    "    ds = ds.batch(batch_size).cache().prefetch(tf.data.experimental.AUTOTUNE)\n",
    "    return ds\n",
    "\n",
    "def make_test_dataset2(feature, batch_size=1024):\n",
    "    ds = tf.data.Dataset.from_tensor_slices(((feature)))\n",
    "    ds = ds.batch(batch_size).cache().prefetch(tf.data.AUTOTUNE)\n",
    "    return ds\n",
    "\n",
    "def inference(models, ds):\n",
    "    y_preds = []\n",
    "    for model in models:\n",
    "        y_pred = model.predict(ds)\n",
    "        y_preds.append(y_pred)\n",
    "    return np.mean(y_preds, axis=0)\n",
    "\n",
    "from sklearn.decomposition import PCA\n",
    "pca = PCA(n_components=1)\n",
    "\n",
    "\n",
    "def pca_inference(models, ds):\n",
    "    y_preds = []\n",
    "    for model in models:\n",
    "        y_pred = model.predict(ds)\n",
    "        y_preds.append(y_pred)\n",
    "    res = np.hstack(y_preds)\n",
    "    print(len(res))\n",
    "    if len(res)>1:\n",
    "        res = pca.fit_transform(res)\n",
    "    else:\n",
    "        res = np.mean(res, axis=1)\n",
    "    return res\n",
    "\n",
    "def make_test_dataset3(feature, batch_size=1024):\n",
    "    ds = tf.data.Dataset.from_tensor_slices((feature))\n",
    "    ds = ds.map(preprocess_test_s)\n",
    "    ds = ds.batch(batch_size).cache().prefetch(tf.data.experimental.AUTOTUNE)\n",
    "    return ds\n",
    "\n",
    "def infer(models, ds):\n",
    "    y_preds = []\n",
    "    for model in models:\n",
    "        y_pred = model.predict(ds)\n",
    "        y_preds.append((y_pred-y_pred.mean())/y_pred.std())\n",
    "    \n",
    "    return np.mean(y_preds, axis=0)\n"
   ]
  },
  {
   "cell_type": "code",
   "execution_count": 23,
   "id": "06af1477",
   "metadata": {
    "execution": {
     "iopub.execute_input": "2022-04-22T03:20:48.651963Z",
     "iopub.status.busy": "2022-04-22T03:20:48.650164Z",
     "iopub.status.idle": "2022-04-22T03:20:48.652608Z",
     "shell.execute_reply": "2022-04-22T03:20:48.653017Z",
     "shell.execute_reply.started": "2022-04-20T22:25:11.822174Z"
    },
    "papermill": {
     "duration": 0.049062,
     "end_time": "2022-04-22T03:20:48.653158",
     "exception": false,
     "start_time": "2022-04-22T03:20:48.604096",
     "status": "completed"
    },
    "tags": []
   },
   "outputs": [],
   "source": [
    "def inference_transformer(model, ds):\n",
    "    y_preds = []\n",
    "    for i in range(5):\n",
    "        model.load_weights(f\"../input/transformer-mask-weights/Transformer_mask_weights/model{i}/model_{i}.tf\")  # private models' weights saved in training cell\n",
    "        y_pred = model.predict(ds)\n",
    "        y_preds.append(y_pred)\n",
    "    return np.mean(y_preds, axis=0)"
   ]
  },
  {
   "cell_type": "code",
   "execution_count": 24,
   "id": "795c9706",
   "metadata": {
    "execution": {
     "iopub.execute_input": "2022-04-22T03:20:48.738191Z",
     "iopub.status.busy": "2022-04-22T03:20:48.737405Z",
     "iopub.status.idle": "2022-04-22T03:20:48.761001Z",
     "shell.execute_reply": "2022-04-22T03:20:48.760517Z",
     "shell.execute_reply.started": "2022-04-20T22:25:11.829338Z"
    },
    "papermill": {
     "duration": 0.067154,
     "end_time": "2022-04-22T03:20:48.761114",
     "exception": false,
     "start_time": "2022-04-22T03:20:48.693960",
     "status": "completed"
    },
    "tags": []
   },
   "outputs": [],
   "source": [
    "import ubiquant\n",
    "env = ubiquant.make_env()\n",
    "iter_test = env.iter_test()"
   ]
  },
  {
   "cell_type": "code",
   "execution_count": 25,
   "id": "18901ec5",
   "metadata": {
    "execution": {
     "iopub.execute_input": "2022-04-22T03:20:48.853240Z",
     "iopub.status.busy": "2022-04-22T03:20:48.852683Z",
     "iopub.status.idle": "2022-04-22T03:21:19.794752Z",
     "shell.execute_reply": "2022-04-22T03:21:19.795521Z",
     "shell.execute_reply.started": "2022-04-20T22:30:16.070381Z"
    },
    "papermill": {
     "duration": 30.993175,
     "end_time": "2022-04-22T03:21:19.795744",
     "exception": false,
     "start_time": "2022-04-22T03:20:48.802569",
     "status": "completed"
    },
    "tags": []
   },
   "outputs": [
    {
     "name": "stdout",
     "output_type": "stream",
     "text": [
      "This version of the API is not optimized and should not be used to estimate the runtime of your code on the hidden test set.\n"
     ]
    },
    {
     "name": "stderr",
     "output_type": "stream",
     "text": [
      "2022-04-22 03:20:55.296734: I tensorflow/stream_executor/cuda/cuda_dnn.cc:369] Loaded cuDNN version 8005\n"
     ]
    },
    {
     "data": {
      "text/html": [
       "<div>\n",
       "<style scoped>\n",
       "    .dataframe tbody tr th:only-of-type {\n",
       "        vertical-align: middle;\n",
       "    }\n",
       "\n",
       "    .dataframe tbody tr th {\n",
       "        vertical-align: top;\n",
       "    }\n",
       "\n",
       "    .dataframe thead th {\n",
       "        text-align: right;\n",
       "    }\n",
       "</style>\n",
       "<table border=\"1\" class=\"dataframe\">\n",
       "  <thead>\n",
       "    <tr style=\"text-align: right;\">\n",
       "      <th></th>\n",
       "      <th>row_id</th>\n",
       "      <th>target</th>\n",
       "    </tr>\n",
       "  </thead>\n",
       "  <tbody>\n",
       "    <tr>\n",
       "      <th>0</th>\n",
       "      <td>1220_1</td>\n",
       "      <td>-0.106326</td>\n",
       "    </tr>\n",
       "    <tr>\n",
       "      <th>1</th>\n",
       "      <td>1220_2</td>\n",
       "      <td>0.040634</td>\n",
       "    </tr>\n",
       "  </tbody>\n",
       "</table>\n",
       "</div>"
      ],
      "text/plain": [
       "   row_id    target\n",
       "0  1220_1 -0.106326\n",
       "1  1220_2  0.040634"
      ]
     },
     "metadata": {},
     "output_type": "display_data"
    },
    {
     "data": {
      "text/html": [
       "<div>\n",
       "<style scoped>\n",
       "    .dataframe tbody tr th:only-of-type {\n",
       "        vertical-align: middle;\n",
       "    }\n",
       "\n",
       "    .dataframe tbody tr th {\n",
       "        vertical-align: top;\n",
       "    }\n",
       "\n",
       "    .dataframe thead th {\n",
       "        text-align: right;\n",
       "    }\n",
       "</style>\n",
       "<table border=\"1\" class=\"dataframe\">\n",
       "  <thead>\n",
       "    <tr style=\"text-align: right;\">\n",
       "      <th></th>\n",
       "      <th>row_id</th>\n",
       "      <th>target</th>\n",
       "    </tr>\n",
       "  </thead>\n",
       "  <tbody>\n",
       "    <tr>\n",
       "      <th>0</th>\n",
       "      <td>1221_0</td>\n",
       "      <td>-0.055425</td>\n",
       "    </tr>\n",
       "    <tr>\n",
       "      <th>1</th>\n",
       "      <td>1221_1</td>\n",
       "      <td>-0.048200</td>\n",
       "    </tr>\n",
       "    <tr>\n",
       "      <th>2</th>\n",
       "      <td>1221_2</td>\n",
       "      <td>-0.102694</td>\n",
       "    </tr>\n",
       "  </tbody>\n",
       "</table>\n",
       "</div>"
      ],
      "text/plain": [
       "   row_id    target\n",
       "0  1221_0 -0.055425\n",
       "1  1221_1 -0.048200\n",
       "2  1221_2 -0.102694"
      ]
     },
     "metadata": {},
     "output_type": "display_data"
    },
    {
     "data": {
      "text/html": [
       "<div>\n",
       "<style scoped>\n",
       "    .dataframe tbody tr th:only-of-type {\n",
       "        vertical-align: middle;\n",
       "    }\n",
       "\n",
       "    .dataframe tbody tr th {\n",
       "        vertical-align: top;\n",
       "    }\n",
       "\n",
       "    .dataframe thead th {\n",
       "        text-align: right;\n",
       "    }\n",
       "</style>\n",
       "<table border=\"1\" class=\"dataframe\">\n",
       "  <thead>\n",
       "    <tr style=\"text-align: right;\">\n",
       "      <th></th>\n",
       "      <th>row_id</th>\n",
       "      <th>target</th>\n",
       "    </tr>\n",
       "  </thead>\n",
       "  <tbody>\n",
       "    <tr>\n",
       "      <th>0</th>\n",
       "      <td>1222_0</td>\n",
       "      <td>-0.086037</td>\n",
       "    </tr>\n",
       "    <tr>\n",
       "      <th>1</th>\n",
       "      <td>1222_1</td>\n",
       "      <td>-0.026540</td>\n",
       "    </tr>\n",
       "    <tr>\n",
       "      <th>2</th>\n",
       "      <td>1222_2</td>\n",
       "      <td>-0.043666</td>\n",
       "    </tr>\n",
       "  </tbody>\n",
       "</table>\n",
       "</div>"
      ],
      "text/plain": [
       "   row_id    target\n",
       "0  1222_0 -0.086037\n",
       "1  1222_1 -0.026540\n",
       "2  1222_2 -0.043666"
      ]
     },
     "metadata": {},
     "output_type": "display_data"
    },
    {
     "name": "stderr",
     "output_type": "stream",
     "text": [
      "/opt/conda/lib/python3.7/site-packages/ipykernel_launcher.py:52: RuntimeWarning: invalid value encountered in true_divide\n"
     ]
    },
    {
     "data": {
      "text/html": [
       "<div>\n",
       "<style scoped>\n",
       "    .dataframe tbody tr th:only-of-type {\n",
       "        vertical-align: middle;\n",
       "    }\n",
       "\n",
       "    .dataframe tbody tr th {\n",
       "        vertical-align: top;\n",
       "    }\n",
       "\n",
       "    .dataframe thead th {\n",
       "        text-align: right;\n",
       "    }\n",
       "</style>\n",
       "<table border=\"1\" class=\"dataframe\">\n",
       "  <thead>\n",
       "    <tr style=\"text-align: right;\">\n",
       "      <th></th>\n",
       "      <th>row_id</th>\n",
       "      <th>target</th>\n",
       "    </tr>\n",
       "  </thead>\n",
       "  <tbody>\n",
       "    <tr>\n",
       "      <th>0</th>\n",
       "      <td>1223_0</td>\n",
       "      <td>NaN</td>\n",
       "    </tr>\n",
       "  </tbody>\n",
       "</table>\n",
       "</div>"
      ],
      "text/plain": [
       "   row_id  target\n",
       "0  1223_0     NaN"
      ]
     },
     "metadata": {},
     "output_type": "display_data"
    }
   ],
   "source": [
    " for (test_df, sample_prediction_df) in iter_test:\n",
    "    ds = make_test_dataset(test_df[features], test_df[\"investment_id\"])\n",
    "    p1 = inference(models, ds) # DNN + masked_DNN combined\n",
    "    ds2 = make_test_dataset2(test_df[features])\n",
    "    p2 = inference(models2, ds2) # Conv2D\n",
    "    ds3 = make_test_dataset3(test_df[features])\n",
    "    p3 = infer(models3, ds3) # dropout = 0.4 for MLP, not used for this version\n",
    "    p4 = inference(models_best, ds) # grid_search\n",
    "    \n",
    "    # feature_time_augment\n",
    "    test_time_id = test_df['row_id'].str.split('_', expand=True).get(key=0).astype(int)\n",
    "    ds5 = make_ft_dataset(investment_id=test_df['investment_id'], feature=test_df[features], time_id=test_time_id)\n",
    "    p5 = model_ft.predict([test_df['investment_id'], test_df[features], test_time_id])[:, 0]\n",
    "    \n",
    "    # Transformer model\n",
    "    ds_transformer = make_test_dataset(test_df[features], test_df[\"investment_id\"].astype('int64'))\n",
    "    transformer_model = get_model_transformer()\n",
    "    p_t = inference_transformer(transformer_model, ds_transformer)\n",
    "    \n",
    "    sample_prediction_df['target'] = p1 * 0.18 + p2 * 0.57 + p3 * 0.07 + p_t * 0.07 + p5 * 0.11\n",
    "    env.predict(sample_prediction_df) \n",
    "    display(sample_prediction_df)"
   ]
  }
 ],
 "metadata": {
  "kernelspec": {
   "display_name": "Python 3",
   "language": "python",
   "name": "python3"
  },
  "language_info": {
   "codemirror_mode": {
    "name": "ipython",
    "version": 3
   },
   "file_extension": ".py",
   "mimetype": "text/x-python",
   "name": "python",
   "nbconvert_exporter": "python",
   "pygments_lexer": "ipython3",
   "version": "3.7.12"
  },
  "papermill": {
   "default_parameters": {},
   "duration": 170.339779,
   "end_time": "2022-04-22T03:21:23.627516",
   "environment_variables": {},
   "exception": null,
   "input_path": "__notebook__.ipynb",
   "output_path": "__notebook__.ipynb",
   "parameters": {},
   "start_time": "2022-04-22T03:18:33.287737",
   "version": "2.3.3"
  }
 },
 "nbformat": 4,
 "nbformat_minor": 5
}
